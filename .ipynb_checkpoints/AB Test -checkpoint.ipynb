{
 "cells": [
  {
   "cell_type": "markdown",
   "id": "5f09b97a",
   "metadata": {},
   "source": [
    "__<h2><center>Task2 - AB Test</center></h2>__"
   ]
  },
  {
   "cell_type": "code",
   "execution_count": 1,
   "id": "b426c6df",
   "metadata": {},
   "outputs": [
    {
     "name": "stdout",
     "output_type": "stream",
     "text": [
      "Кількість кліків у групі А (п'ятниця): 747\n",
      "Кількість кліків у групі Б (вівторок): 621\n",
      "Кількість відправлених повідомлень у групі А (п'ятниця): 5439\n",
      "Кількість відправлених повідомлень у групі Б (вівторок): 5441\n",
      "Статистична значимість кліків (p-value): 0.00017546580671155463\n"
     ]
    }
   ],
   "source": [
    "from scipy import stats\n",
    "\n",
    "# Кількість для п'ятниці\n",
    "friday_emails_sent = 3702\n",
    "friday_emails_clicks = 673\n",
    "friday_push_sent = 1737\n",
    "friday_push_clicks = 74\n",
    "\n",
    "# Кількість для вівторка\n",
    "tuesday_emails_sent = 3650\n",
    "tuesday_emails_clicks = 557\n",
    "tuesday_push_sent = 1791\n",
    "tuesday_push_clicks = 64\n",
    "\n",
    "\n",
    "clicks_group_A = friday_emails_clicks + friday_push_clicks\n",
    "clicks_group_B = tuesday_emails_clicks + tuesday_push_clicks\n",
    "\n",
    "sent_group_A = friday_emails_sent + friday_push_sent\n",
    "sent_group_B = tuesday_emails_sent + tuesday_push_sent\n",
    "\n",
    "\n",
    "t_stat_clicks, p_value_clicks = stats.ttest_ind([clicks_group_A, clicks_group_B], [sent_group_A, sent_group_B])\n",
    "\n",
    "\n",
    "print(\"Кількість кліків у групі А (п'ятниця):\", clicks_group_A)\n",
    "print(\"Кількість кліків у групі Б (вівторок):\", clicks_group_B)\n",
    "print(\"Кількість відправлених повідомлень у групі А (п'ятниця):\", sent_group_A)\n",
    "print(\"Кількість відправлених повідомлень у групі Б (вівторок):\", sent_group_B)\n",
    "print(\"Статистична значимість кліків (p-value):\", p_value_clicks)\n"
   ]
  },
  {
   "cell_type": "markdown",
   "id": "1ca92d0c",
   "metadata": {},
   "source": [
    "__Висновок:__\n",
    "\n",
    "__Аналіз:__\t\t\t\t\n",
    "Метрика успіху -  клік за посиланням у листі/пуші.\t\t\t\t\n",
    "\t\t\t\t\n",
    "\n",
    "__Нульова гіпотеза (H0):__ Немає статистично значущої різниці в середній кількості кліків за посиланням між розсилкою в п'ятницю і розсилкою у вівторок.\t\t\t\t\n",
    "\t\t\t\t\n",
    "\n",
    "__Альтернативна гіпотеза (H1):__ Кількість кліків у розсилці в п'ятницю відрізняється від кількості кліків у розсилці вівторок. \t\t\t\t\n",
    "\t\t\t\t\n",
    "\n",
    "Оскільки p-значення менше порогового значення 0.05, варто відхилити нульову гіпотезу і прийняти альтернативну гіпотезу про те, що різниця в кількості кліків є статистично значущою. Тому відправка повідомлень в п'ятницю може бути більш ефективною. "
   ]
  },
  {
   "cell_type": "code",
   "execution_count": null,
   "id": "86e9080c",
   "metadata": {},
   "outputs": [],
   "source": []
  }
 ],
 "metadata": {
  "kernelspec": {
   "display_name": "Python 3 (ipykernel)",
   "language": "python",
   "name": "python3"
  },
  "language_info": {
   "codemirror_mode": {
    "name": "ipython",
    "version": 3
   },
   "file_extension": ".py",
   "mimetype": "text/x-python",
   "name": "python",
   "nbconvert_exporter": "python",
   "pygments_lexer": "ipython3",
   "version": "3.10.9"
  }
 },
 "nbformat": 4,
 "nbformat_minor": 5
}
